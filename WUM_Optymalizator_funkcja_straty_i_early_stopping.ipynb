{
  "cells": [
    {
      "cell_type": "markdown",
      "metadata": {
        "id": "view-in-github",
        "colab_type": "text"
      },
      "source": [
        "<a href=\"https://colab.research.google.com/github/marcinmichalsmolen/wum2022/blob/main/WUM_Optymalizator_funkcja_straty_i_early_stopping.ipynb\" target=\"_parent\"><img src=\"https://colab.research.google.com/assets/colab-badge.svg\" alt=\"Open In Colab\"/></a>"
      ]
    },
    {
      "cell_type": "markdown",
      "source": [
        "# Data Science z Python 3.10. Optymalizator, funkcja straty i early stopping\n"
      ],
      "metadata": {
        "id": "7W8u8FZFIL2m"
      }
    },
    {
      "cell_type": "markdown",
      "source": [
        "Poniżej przedstawiony jest kod znany z poprzednich zajęć. Tym razem wprowadzimy do niego \"ulepszenia\" i zastanowimy się nad właściwym optymalizatorem i funkcją straty. Wprowadzimy również do naszego modelu podstawowy Early Stopping, który będzie zapobiegać przeuczeniu się naszego modelu."
      ],
      "metadata": {
        "id": "Mn_XRemkR6fM"
      }
    },
    {
      "cell_type": "markdown",
      "source": [
        "### 1. Import bibliotek\n",
        "#### 🇬🇧 Import libraries\n",
        "W tym miejscu importujemy biblioteki, które będą nam potrzebne do wytrenowania sieci neuronowej. Jeżeli w tym miejscu widoczny będzie błąd, to konieczne jest zainstalowanie biblioteki w danym środowisku. W takim wypadku wchodzimy w terminal, aktywujemy środowisko pracy, instalujemy biblioteki (pip install X)."
      ],
      "metadata": {
        "id": "gchK-2kPR6fM"
      }
    },
    {
      "cell_type": "code",
      "source": [
        "!pip install mnist\n",
        "\n",
        "import tensorflow as tf\n",
        "import numpy as np\n",
        "import mnist\n",
        "\n",
        "from keras.models import Sequential\n",
        "from keras.layers import Dense\n",
        "from keras.layers import Dropout\n",
        "from keras.callbacks import EarlyStopping\n",
        "from keras.callbacks import ModelCheckpoint\n",
        "from keras.models import load_model\n",
        "from matplotlib import pyplot\n",
        "from tensorflow.keras.utils import to_categorical\n",
        "\n",
        "from tensorflow import keras\n",
        "from tensorflow.keras import backend as K\n",
        "\n",
        "# Rozpoczynamy od importu potrzebnych nam bibliotek, nowością jest EarlyStopping"
      ],
      "outputs": [
        {
          "output_type": "stream",
          "name": "stdout",
          "text": [
            "Looking in indexes: https://pypi.org/simple, https://us-python.pkg.dev/colab-wheels/public/simple/\n",
            "Requirement already satisfied: mnist in /usr/local/lib/python3.8/dist-packages (0.2.2)\n",
            "Requirement already satisfied: numpy in /usr/local/lib/python3.8/dist-packages (from mnist) (1.21.6)\n"
          ]
        }
      ],
      "execution_count": 1,
      "metadata": {
        "colab": {
          "base_uri": "https://localhost:8080/"
        },
        "id": "0hk22wZDYbVQ",
        "outputId": "e1a2c3ec-1e7d-4c7b-ccef-68e9697d6818"
      }
    },
    {
      "cell_type": "markdown",
      "source": [
        "### 2. Przygotowanie danych do analizy\n",
        "#### 🇬🇧 Data preparation"
      ],
      "metadata": {
        "id": "APpHwz_fR6fN"
      }
    },
    {
      "cell_type": "code",
      "source": [
        "train_images = mnist.train_images()\n",
        "train_labels = mnist.train_labels()\n",
        "test_images = mnist.test_images()\n",
        "test_labels = mnist.test_labels()\n",
        "\n",
        "train_images = (train_images / 255) - 0.5\n",
        "test_images = (test_images / 255) - 0.5\n",
        "\n",
        "train_images = train_images.reshape((-1, 784))\n",
        "test_images = test_images.reshape((-1, 784))\n",
        "\n",
        "model = Sequential([\n",
        "  Dense(64, activation='relu', input_shape=(784,)),\n",
        "  Dense(64, activation='relu'),\n",
        "  Dense(10, activation='softmax'),\n",
        "])"
      ],
      "outputs": [],
      "execution_count": 2,
      "metadata": {
        "id": "2CPZuB2vsqBS"
      }
    },
    {
      "cell_type": "markdown",
      "source": [
        "Zatrzymajmy się na chwilę w tym miejscu. Na ostatnich zajęciach modyfikowaliśmy architekturę sieci neuronowej. Teraz przyszedł czas na wybór odpowiedniego optymalizatora, metryk oraz funkcji straty."
      ],
      "metadata": {
        "id": "iLsO0jydsqtG"
      }
    },
    {
      "cell_type": "code",
      "source": [
        "model.compile(\n",
        "  optimizer='adam',\n",
        "  loss='categorical_crossentropy',\n",
        "  metrics=['accuracy'],\n",
        ")"
      ],
      "outputs": [],
      "execution_count": 3,
      "metadata": {
        "id": "T-nhhMPgV6VD"
      }
    },
    {
      "cell_type": "code",
      "source": [
        "from google.colab import drive\n",
        "drive.mount('/content/drive/')"
      ],
      "outputs": [
        {
          "output_type": "stream",
          "name": "stdout",
          "text": [
            "Mounted at /content/drive/\n"
          ]
        }
      ],
      "execution_count": 4,
      "metadata": {
        "colab": {
          "base_uri": "https://localhost:8080/"
        },
        "id": "TJz7ML2MhM2n",
        "outputId": "85e6a645-d61d-4dfb-90e7-8566762a0692"
      }
    },
    {
      "cell_type": "markdown",
      "source": [
        "### 3. Trenowanie modelu\n",
        "#### 🇬🇧 Model training"
      ],
      "metadata": {
        "id": "2TyGYkqBR6fO"
      }
    },
    {
      "cell_type": "markdown",
      "source": [
        "### 📚 Zadanie 1.\n",
        "##### Przeprowadź proces uczenia się z wykorzystaniem early stopping, wykonaj poniższe kroki."
      ],
      "metadata": {
        "id": "li4Y1654R6fP"
      }
    },
    {
      "cell_type": "markdown",
      "source": [
        "1. Stwórz nową zmienną, którą nazwiesz f1, odwołaj się do early stopping, wprowadź odpowiednie wartości do parametrów takich jak monitor, mode, verbose oraz patience.\n",
        "2. Stwórz nową zmienną, którą nazwiesz f1, odwołaj się do ModelCheckpoint, wprowadź nazwę dla swojego modelu oraz odpowiednie wartości dla parametru monitor, mode, verbose oraz save_best_only.\n",
        "3. Stwórz nową zmienną, którą nazwiesz history. Zmienna ta powinna zawierać stworzone w poprzednim kroku dane treningowe (x), etykiety danych trningowych (y), dane testowe (a), etykiedy danych testowych (b) oraz odpowiednie wartości parametrów epochs oraz verbose.\n",
        "4. Stwórz nową zmienną, którą nazwiesz trained_model, załaduj model używając nazwy modelu z punktu drugiego.\n",
        "5. Stwórz nową zmienną, którą nazwiesz trai _accuracy, odwołaj się do trained_model.evaluate, użyj danych treningowych (x) oraz etykiet danych treningowych (y).\n",
        "6. Stwórz nową zmienną, którą nazwiesz test_accuracy, odwołaj się do trained_model.evaluate, użyj danych testowych (a) oraz etykiet danych testowych (b).\n",
        "7. Przeprowadź uczenie sieci dla liczby epok wynoszącej 100 przy wartości parametru patience wynoszącej 10. Po której epoce proces trenowania sieci się zatrzyma?\n",
        "8. Wyświetl informacje dotyczące dokładności klasyfikacji na materiale treningowym oraz testowym."
      ],
      "metadata": {
        "id": "8InTZwPRCfJy"
      }
    },
    {
      "cell_type": "code",
      "source": [
        "from matplotlib import pyplot\n",
        "def summarize_diagnostics(history):\n",
        "  pyplot.title('Dokładność klasyfikacji')\n",
        "  pyplot.plot(history.history['accuracy'], color='orange', label='train')\n",
        "  pyplot.subplots_adjust (right=2)\n",
        "  pyplot.show()"
      ],
      "outputs": [],
      "execution_count": 5,
      "metadata": {
        "id": "d11ppnKHuY2Z"
      }
    },
    {
      "cell_type": "code",
      "source": [
        "# Z 1.1\n",
        "f1 = tf.keras.callbacks.EarlyStopping(monitor='loss', verbose=0, patience=3, mode=\"auto\")\n",
        "\n",
        "# Z 1.2\n",
        "f2 = tf.keras.callbacks.ModelCheckpoint(filepath='modelx', save_weights_only = False, monitor = 'accuracy', mode='max', save_best_only = True)\n",
        "f3 = tf.keras.callbacks.TensorBoard(log_dir='./logs')\n",
        "\n",
        "# Z 1.3\n",
        "history = model.fit(train_images,  to_categorical(train_labels),  epochs=10, batch_size = 30,  callbacks = [f1,f2,f3])\n",
        "\n",
        "# Z 1.4\n",
        "trained_model = keras.models.load_model('modelx')\n",
        "\n",
        "# Z 1.5-1.6\n",
        "train_accuracy = trained_model.evaluate(train_images, to_categorical(train_labels))\n",
        "test_accuracy = trained_model.evaluate(test_images, to_categorical(test_labels))\n",
        "\n",
        "# Z 1.7\n",
        "print(train_accuracy + test_accuracy)\n",
        "\n",
        "# Osobno dla train i test\n",
        "print('Dokładności klasyfikacji na materiale treningowym  = ',train_accuracy)\n",
        "print('dokładności klasyfikacji na materiale testowym  = ',test_accuracy)\n",
        "summarize_diagnostics(history)\n"
      ],
      "outputs": [
        {
          "output_type": "stream",
          "name": "stdout",
          "text": [
            "Epoch 1/10\n",
            "2000/2000 [==============================] - 9s 3ms/step - loss: 0.3520 - accuracy: 0.8939\n",
            "Epoch 2/10\n",
            "2000/2000 [==============================] - 6s 3ms/step - loss: 0.1827 - accuracy: 0.9447\n",
            "Epoch 3/10\n",
            "2000/2000 [==============================] - 6s 3ms/step - loss: 0.1398 - accuracy: 0.9578\n",
            "Epoch 4/10\n",
            "2000/2000 [==============================] - 5s 3ms/step - loss: 0.1199 - accuracy: 0.9624\n",
            "Epoch 5/10\n",
            "2000/2000 [==============================] - 5s 2ms/step - loss: 0.1042 - accuracy: 0.9678\n",
            "Epoch 6/10\n",
            "2000/2000 [==============================] - 5s 2ms/step - loss: 0.0945 - accuracy: 0.9707\n",
            "Epoch 7/10\n",
            "2000/2000 [==============================] - 5s 2ms/step - loss: 0.0830 - accuracy: 0.9743\n",
            "Epoch 8/10\n",
            "2000/2000 [==============================] - 6s 3ms/step - loss: 0.0779 - accuracy: 0.9756\n",
            "Epoch 9/10\n",
            "2000/2000 [==============================] - 5s 3ms/step - loss: 0.0724 - accuracy: 0.9765\n",
            "Epoch 10/10\n",
            "2000/2000 [==============================] - 5s 2ms/step - loss: 0.0686 - accuracy: 0.9777\n",
            "1875/1875 [==============================] - 4s 2ms/step - loss: 0.0655 - accuracy: 0.9781\n",
            "313/313 [==============================] - 1s 2ms/step - loss: 0.1186 - accuracy: 0.9646\n",
            "[0.06551835685968399, 0.9780833125114441, 0.11863159388303757, 0.9646000266075134]\n",
            "Dokładności klasyfikacji na materiale treningowym  =  [0.06551835685968399, 0.9780833125114441]\n",
            "dokładności klasyfikacji na materiale testowym  =  [0.11863159388303757, 0.9646000266075134]\n"
          ]
        },
        {
          "output_type": "display_data",
          "data": {
            "text/plain": [
              "<Figure size 432x288 with 1 Axes>"
            ],
            "image/png": "[encoded data removed]"
          },
          "metadata": {
            "needs_background": "light"
          }
        }
      ],
      "execution_count": 6,
      "metadata": {
        "id": "kWnXdkcel-mn",
        "colab": {
          "base_uri": "https://localhost:8080/",
          "height": 715
        },
        "outputId": "76740e69-ddbe-49ba-e749-fa1a53d2e2ae"
      }
    },
    {
      "cell_type": "code",
      "source": [
        "# Zadanie 1.7 Uczenie dla 100 epok\n",
        "f1 = tf.keras.callbacks.EarlyStopping(monitor='loss', verbose=0, patience=10, mode=\"auto\")\n",
        "f2 = tf.keras.callbacks.ModelCheckpoint(filepath='modelz', save_weights_only = False, monitor = 'accuracy', mode='max', save_best_only = True)\n",
        "f3 = tf.keras.callbacks.TensorBoard(log_dir='./logs')\n",
        "historyz = model.fit(train_images,  to_categorical(train_labels),  epochs=100, batch_size = 30,  callbacks = [f1,f2,f3])\n",
        "trained_modelz = keras.models.load_model('modelz')\n",
        "train_accuracy = trained_modelz.evaluate(train_images, to_categorical(train_labels))\n",
        "test_accuracy = trained_modelz.evaluate(test_images, to_categorical(test_labels))\n",
        "\n",
        "print(train_accuracy + test_accuracy)\n",
        "print('Dokładności klasyfikacji na materiale treningowym  = ',train_accuracy)\n",
        "print('dokładności klasyfikacji na materiale testowym  = ',test_accuracy)\n",
        "summarize_diagnostics(historyz)\n"
      ],
      "outputs": [
        {
          "output_type": "stream",
          "name": "stdout",
          "text": [
            "Epoch 1/100\n",
            "2000/2000 [==============================] - 5s 3ms/step - loss: 0.0620 - accuracy: 0.9800\n",
            "Epoch 2/100\n",
            "2000/2000 [==============================] - 6s 3ms/step - loss: 0.0577 - accuracy: 0.9820\n",
            "Epoch 3/100\n",
            "2000/2000 [==============================] - 5s 2ms/step - loss: 0.0547 - accuracy: 0.9817\n",
            "Epoch 4/100\n",
            "2000/2000 [==============================] - 5s 2ms/step - loss: 0.0532 - accuracy: 0.9826\n",
            "Epoch 5/100\n",
            "2000/2000 [==============================] - 5s 2ms/step - loss: 0.0504 - accuracy: 0.9836\n",
            "Epoch 6/100\n",
            "2000/2000 [==============================] - 5s 2ms/step - loss: 0.0480 - accuracy: 0.9841\n",
            "Epoch 7/100\n",
            "2000/2000 [==============================] - 5s 2ms/step - loss: 0.0456 - accuracy: 0.9845\n",
            "Epoch 8/100\n",
            "2000/2000 [==============================] - 5s 2ms/step - loss: 0.0420 - accuracy: 0.9859\n",
            "Epoch 9/100\n",
            "2000/2000 [==============================] - 5s 3ms/step - loss: 0.0395 - accuracy: 0.9865\n",
            "Epoch 10/100\n",
            "2000/2000 [==============================] - 4s 2ms/step - loss: 0.0407 - accuracy: 0.9860\n",
            "Epoch 11/100\n",
            "2000/2000 [==============================] - 5s 2ms/step - loss: 0.0377 - accuracy: 0.9873\n",
            "Epoch 12/100\n",
            "2000/2000 [==============================] - 6s 3ms/step - loss: 0.0366 - accuracy: 0.9877\n",
            "Epoch 13/100\n",
            "2000/2000 [==============================] - 5s 2ms/step - loss: 0.0340 - accuracy: 0.9889\n",
            "Epoch 14/100\n",
            "2000/2000 [==============================] - 5s 2ms/step - loss: 0.0331 - accuracy: 0.9893\n",
            "Epoch 15/100\n",
            "2000/2000 [==============================] - 4s 2ms/step - loss: 0.0322 - accuracy: 0.9893\n",
            "Epoch 16/100\n",
            "2000/2000 [==============================] - 5s 2ms/step - loss: 0.0305 - accuracy: 0.9897\n",
            "Epoch 17/100\n",
            "2000/2000 [==============================] - 4s 2ms/step - loss: 0.0310 - accuracy: 0.9897\n",
            "Epoch 18/100\n",
            "2000/2000 [==============================] - 4s 2ms/step - loss: 0.0312 - accuracy: 0.9890\n",
            "Epoch 19/100\n",
            "2000/2000 [==============================] - 5s 2ms/step - loss: 0.0248 - accuracy: 0.9918\n",
            "Epoch 20/100\n",
            "2000/2000 [==============================] - 5s 2ms/step - loss: 0.0311 - accuracy: 0.9895\n",
            "Epoch 21/100\n",
            "2000/2000 [==============================] - 4s 2ms/step - loss: 0.0263 - accuracy: 0.9905\n",
            "Epoch 22/100\n",
            "2000/2000 [==============================] - 5s 2ms/step - loss: 0.0236 - accuracy: 0.9920\n",
            "Epoch 23/100\n",
            "2000/2000 [==============================] - 5s 2ms/step - loss: 0.0263 - accuracy: 0.9912\n",
            "Epoch 24/100\n",
            "2000/2000 [==============================] - 4s 2ms/step - loss: 0.0255 - accuracy: 0.9912\n",
            "Epoch 25/100\n",
            "2000/2000 [==============================] - 5s 2ms/step - loss: 0.0238 - accuracy: 0.9919\n",
            "Epoch 26/100\n",
            "2000/2000 [==============================] - 4s 2ms/step - loss: 0.0239 - accuracy: 0.9918\n",
            "Epoch 27/100\n",
            "2000/2000 [==============================] - 5s 2ms/step - loss: 0.0236 - accuracy: 0.9917\n",
            "Epoch 28/100\n",
            "2000/2000 [==============================] - 5s 2ms/step - loss: 0.0249 - accuracy: 0.9915\n",
            "Epoch 29/100\n",
            "2000/2000 [==============================] - 6s 3ms/step - loss: 0.0214 - accuracy: 0.9926\n",
            "Epoch 30/100\n",
            "2000/2000 [==============================] - 5s 3ms/step - loss: 0.0226 - accuracy: 0.9923\n",
            "Epoch 31/100\n",
            "2000/2000 [==============================] - 5s 3ms/step - loss: 0.0217 - accuracy: 0.9932\n",
            "Epoch 32/100\n",
            "2000/2000 [==============================] - 5s 2ms/step - loss: 0.0221 - accuracy: 0.9922\n",
            "Epoch 33/100\n",
            "2000/2000 [==============================] - 5s 2ms/step - loss: 0.0204 - accuracy: 0.9931\n",
            "Epoch 34/100\n",
            "2000/2000 [==============================] - 5s 3ms/step - loss: 0.0219 - accuracy: 0.9926\n",
            "Epoch 35/100\n",
            "2000/2000 [==============================] - 5s 2ms/step - loss: 0.0209 - accuracy: 0.9930\n",
            "Epoch 36/100\n",
            "2000/2000 [==============================] - 5s 2ms/step - loss: 0.0214 - accuracy: 0.9931\n",
            "Epoch 37/100\n",
            "2000/2000 [==============================] - 5s 2ms/step - loss: 0.0201 - accuracy: 0.9931\n",
            "Epoch 38/100\n",
            "2000/2000 [==============================] - 5s 2ms/step - loss: 0.0197 - accuracy: 0.9933\n",
            "Epoch 39/100\n",
            "2000/2000 [==============================] - 5s 2ms/step - loss: 0.0207 - accuracy: 0.9934\n",
            "Epoch 40/100\n",
            "2000/2000 [==============================] - 5s 2ms/step - loss: 0.0220 - accuracy: 0.9926\n",
            "Epoch 41/100\n",
            "2000/2000 [==============================] - 5s 2ms/step - loss: 0.0182 - accuracy: 0.9943\n",
            "Epoch 42/100\n",
            "2000/2000 [==============================] - 5s 2ms/step - loss: 0.0163 - accuracy: 0.9945\n",
            "Epoch 43/100\n",
            "2000/2000 [==============================] - 5s 2ms/step - loss: 0.0198 - accuracy: 0.9935\n",
            "Epoch 44/100\n",
            "2000/2000 [==============================] - 4s 2ms/step - loss: 0.0171 - accuracy: 0.9941\n",
            "Epoch 45/100\n",
            "2000/2000 [==============================] - 5s 2ms/step - loss: 0.0184 - accuracy: 0.9938\n",
            "Epoch 46/100\n",
            "2000/2000 [==============================] - 5s 2ms/step - loss: 0.0187 - accuracy: 0.9941\n",
            "Epoch 47/100\n",
            "2000/2000 [==============================] - 5s 2ms/step - loss: 0.0180 - accuracy: 0.9943\n",
            "Epoch 48/100\n",
            "2000/2000 [==============================] - 5s 2ms/step - loss: 0.0193 - accuracy: 0.9938\n",
            "Epoch 49/100\n",
            "2000/2000 [==============================] - 5s 2ms/step - loss: 0.0150 - accuracy: 0.9947\n",
            "Epoch 50/100\n",
            "2000/2000 [==============================] - 4s 2ms/step - loss: 0.0174 - accuracy: 0.9940\n",
            "Epoch 51/100\n",
            "2000/2000 [==============================] - 5s 2ms/step - loss: 0.0172 - accuracy: 0.9946\n",
            "Epoch 52/100\n",
            "2000/2000 [==============================] - 4s 2ms/step - loss: 0.0179 - accuracy: 0.9941\n",
            "Epoch 53/100\n",
            "2000/2000 [==============================] - 5s 2ms/step - loss: 0.0184 - accuracy: 0.9941\n",
            "Epoch 54/100\n",
            "2000/2000 [==============================] - 5s 3ms/step - loss: 0.0135 - accuracy: 0.9951\n",
            "Epoch 55/100\n",
            "2000/2000 [==============================] - 4s 2ms/step - loss: 0.0193 - accuracy: 0.9943\n",
            "Epoch 56/100\n",
            "2000/2000 [==============================] - 5s 2ms/step - loss: 0.0180 - accuracy: 0.9943\n",
            "Epoch 57/100\n",
            "2000/2000 [==============================] - 5s 2ms/step - loss: 0.0154 - accuracy: 0.9951\n",
            "Epoch 58/100\n",
            "2000/2000 [==============================] - 5s 2ms/step - loss: 0.0171 - accuracy: 0.9948\n",
            "Epoch 59/100\n",
            "2000/2000 [==============================] - 5s 2ms/step - loss: 0.0183 - accuracy: 0.9942\n",
            "Epoch 60/100\n",
            "2000/2000 [==============================] - 5s 3ms/step - loss: 0.0147 - accuracy: 0.9953\n",
            "Epoch 61/100\n",
            "2000/2000 [==============================] - 5s 2ms/step - loss: 0.0169 - accuracy: 0.9948\n",
            "Epoch 62/100\n",
            "2000/2000 [==============================] - 5s 2ms/step - loss: 0.0148 - accuracy: 0.9951\n",
            "Epoch 63/100\n",
            "2000/2000 [==============================] - 5s 2ms/step - loss: 0.0174 - accuracy: 0.9947\n",
            "Epoch 64/100\n",
            "2000/2000 [==============================] - 5s 2ms/step - loss: 0.0143 - accuracy: 0.9955\n",
            "1875/1875 [==============================] - 4s 2ms/step - loss: 0.0134 - accuracy: 0.9959\n",
            "313/313 [==============================] - 1s 2ms/step - loss: 0.2076 - accuracy: 0.9726\n",
            "[0.013392515480518341, 0.9958500266075134, 0.20764878392219543, 0.972599983215332]\n",
            "Dokładności klasyfikacji na materiale treningowym  =  [0.013392515480518341, 0.9958500266075134]\n",
            "dokładności klasyfikacji na materiale testowym  =  [0.20764878392219543, 0.972599983215332]\n"
          ]
        },
        {
          "output_type": "display_data",
          "data": {
            "text/plain": [
              "<Figure size 432x288 with 1 Axes>"
            ],
            "image/png": "[encoded data removed]"
          },
          "metadata": {
            "needs_background": "light"
          }
        }
      ],
      "execution_count": 7,
      "metadata": {
        "id": "keiVuL7j0Bp3",
        "colab": {
          "base_uri": "https://localhost:8080/",
          "height": 1000
        },
        "outputId": "ef3c1579-aaf5-4105-feb5-18cd7100dc68"
      }
    },
    {
      "cell_type": "markdown",
      "source": [],
      "metadata": {
        "id": "TqWgsuGQ0lqm"
      }
    },
    {
      "cell_type": "markdown",
      "source": [
        "### 📚 Zadanie 2.\n",
        "##### Uruchom ponownie proces treningu sieci, tym razem wprowadzając zmianę związaną z funkcją straty oraz optymalizatora."
      ],
      "metadata": {
        "id": "9-vMmyrGR6fP"
      }
    },
    {
      "cell_type": "markdown",
      "source": [
        "1. Wypróbuj inną funkcję straty (rozkład Poisona). Czy w przypadku naszego zbioru danych taka funkcja ma sens?\n",
        "2. Wypróbuj inny optymalizator (z wykorzystaniem algorytmu Adadelta). Czy obserwujesz jakieś zmiany w procesie uczenia się w porównaniu do algorytmu wykorzystanego w tutorialu (adam)? Gdzie może leżeć przyczyna tych różnic? (zob. https://keras.io/api/optimizers/adadelta)."
      ],
      "metadata": {
        "id": "hpxxzs6sR6fQ"
      }
    },
    {
      "cell_type": "code",
      "source": [
        "train_images = mnist.train_images()\n",
        "train_labels = mnist.train_labels()\n",
        "test_images = mnist.test_images()\n",
        "test_labels = mnist.test_labels()\n",
        "\n",
        "train_images = (train_images / 255) - 0.5\n",
        "test_images = (test_images / 255) - 0.5\n",
        "\n",
        "train_images = train_images.reshape((-1, 784))\n",
        "test_images = test_images.reshape((-1, 784))\n",
        "\n",
        "model2 = Sequential([\n",
        "  Dense(64, activation='relu', input_shape=(784,)),\n",
        "  Dense(64, activation='relu'),\n",
        "  Dense(10, activation='softmax'),\n",
        "])\n",
        "model3 = Sequential([\n",
        "  Dense(64, activation='relu', input_shape=(784,)),\n",
        "  Dense(64, activation='relu'),\n",
        "  Dense(10, activation='softmax'),\n",
        "])"
      ],
      "outputs": [],
      "execution_count": 8,
      "metadata": {
        "id": "p8CIm2l400uu"
      }
    },
    {
      "cell_type": "code",
      "source": [
        "model2.compile(\n",
        "  optimizer='adam',\n",
        "  loss='Poisson',\n",
        "  metrics=['accuracy'],\n",
        ")"
      ],
      "outputs": [],
      "execution_count": 9,
      "metadata": {
        "id": "2xiPZFscR6fQ"
      }
    },
    {
      "cell_type": "code",
      "source": [
        "tf.keras.optimizers.Adadelta(\n",
        "    learning_rate=0.001, rho=0.95, epsilon=1e-07, name=\"Adadelta\")\n",
        "model3.compile(\n",
        "  optimizer='Adadelta',\n",
        "  loss='categorical_crossentropy',\n",
        "  metrics=['accuracy'],\n",
        ")"
      ],
      "outputs": [],
      "execution_count": 10,
      "metadata": {
        "id": "O64C8u3vR6fQ"
      }
    },
    {
      "cell_type": "code",
      "source": [
        "# Zadanie 2.1 \n",
        "f1 = tf.keras.callbacks.EarlyStopping(monitor='loss', verbose=0, patience=10, mode=\"auto\")\n",
        "f2 = tf.keras.callbacks.ModelCheckpoint(filepath='modely', save_weights_only = False, monitor = 'accuracy', mode='max', save_best_only = True)\n",
        "f3 = tf.keras.callbacks.TensorBoard(log_dir='./logs')\n",
        "history2 = model2.fit(train_images,  to_categorical(train_labels),  epochs=100, batch_size = 30,  callbacks = [f1,f2,f3])\n",
        "trained_model2 = keras.models.load_model('modely')\n",
        "train_accuracy = trained_model2.evaluate(train_images, to_categorical(train_labels))\n",
        "test_accuracy = trained_model2.evaluate(test_images, to_categorical(test_labels))\n",
        "\n",
        "print(train_accuracy + test_accuracy)\n",
        "print('Dokładności klasyfikacji na materiale treningowym  = ',train_accuracy)\n",
        "print('dokładności klasyfikacji na materiale testowym  = ',test_accuracy)\n",
        "summarize_diagnostics(history2)\n",
        "\n",
        "# Wydaje mi się, że dla zbioru mnist funkcja straty przyjmująca wartości rzeczywiste z przedziału (0, 1) nie za bardzo ma sens\n"
      ],
      "outputs": [
        {
          "output_type": "stream",
          "name": "stdout",
          "text": [
            "Epoch 1/100\n",
            "2000/2000 [==============================] - 6s 3ms/step - loss: 0.1357 - accuracy: 0.8930\n",
            "Epoch 2/100\n",
            "2000/2000 [==============================] - 5s 2ms/step - loss: 0.1186 - accuracy: 0.9436\n",
            "Epoch 3/100\n",
            "2000/2000 [==============================] - 5s 2ms/step - loss: 0.1146 - accuracy: 0.9553\n",
            "Epoch 4/100\n",
            "2000/2000 [==============================] - 5s 2ms/step - loss: 0.1124 - accuracy: 0.9617\n",
            "Epoch 5/100\n",
            "2000/2000 [==============================] - 5s 2ms/step - loss: 0.1108 - accuracy: 0.9656\n",
            "Epoch 6/100\n",
            "2000/2000 [==============================] - 5s 2ms/step - loss: 0.1095 - accuracy: 0.9700\n",
            "Epoch 7/100\n",
            "2000/2000 [==============================] - 5s 2ms/step - loss: 0.1086 - accuracy: 0.9726\n",
            "Epoch 8/100\n",
            "2000/2000 [==============================] - 5s 2ms/step - loss: 0.1078 - accuracy: 0.9747\n",
            "Epoch 9/100\n",
            "2000/2000 [==============================] - 5s 2ms/step - loss: 0.1074 - accuracy: 0.9760\n",
            "Epoch 10/100\n",
            "2000/2000 [==============================] - 5s 2ms/step - loss: 0.1066 - accuracy: 0.9790\n",
            "Epoch 11/100\n",
            "2000/2000 [==============================] - 5s 2ms/step - loss: 0.1062 - accuracy: 0.9797\n",
            "Epoch 12/100\n",
            "2000/2000 [==============================] - 5s 2ms/step - loss: 0.1059 - accuracy: 0.9811\n",
            "Epoch 13/100\n",
            "2000/2000 [==============================] - 5s 2ms/step - loss: 0.1055 - accuracy: 0.9824\n",
            "Epoch 14/100\n",
            "2000/2000 [==============================] - 5s 2ms/step - loss: 0.1052 - accuracy: 0.9824\n",
            "Epoch 15/100\n",
            "2000/2000 [==============================] - 5s 2ms/step - loss: 0.1051 - accuracy: 0.9834\n",
            "Epoch 16/100\n",
            "2000/2000 [==============================] - 5s 2ms/step - loss: 0.1045 - accuracy: 0.9848\n",
            "Epoch 17/100\n",
            "2000/2000 [==============================] - 5s 2ms/step - loss: 0.1044 - accuracy: 0.9852\n",
            "Epoch 18/100\n",
            "2000/2000 [==============================] - 4s 2ms/step - loss: 0.1043 - accuracy: 0.9851\n",
            "Epoch 19/100\n",
            "2000/2000 [==============================] - 5s 2ms/step - loss: 0.1040 - accuracy: 0.9865\n",
            "Epoch 20/100\n",
            "2000/2000 [==============================] - 5s 2ms/step - loss: 0.1037 - accuracy: 0.9871\n",
            "Epoch 21/100\n",
            "2000/2000 [==============================] - 4s 2ms/step - loss: 0.1038 - accuracy: 0.9868\n",
            "Epoch 22/100\n",
            "2000/2000 [==============================] - 5s 2ms/step - loss: 0.1034 - accuracy: 0.9879\n",
            "Epoch 23/100\n",
            "2000/2000 [==============================] - 5s 2ms/step - loss: 0.1034 - accuracy: 0.9879\n",
            "Epoch 24/100\n",
            "2000/2000 [==============================] - 5s 2ms/step - loss: 0.1034 - accuracy: 0.9882\n",
            "Epoch 25/100\n",
            "2000/2000 [==============================] - 5s 2ms/step - loss: 0.1031 - accuracy: 0.9896\n",
            "Epoch 26/100\n",
            "2000/2000 [==============================] - 4s 2ms/step - loss: 0.1032 - accuracy: 0.9891\n",
            "Epoch 27/100\n",
            "2000/2000 [==============================] - 4s 2ms/step - loss: 0.1032 - accuracy: 0.9891\n",
            "Epoch 28/100\n",
            "2000/2000 [==============================] - 6s 3ms/step - loss: 0.1029 - accuracy: 0.9905\n",
            "Epoch 29/100\n",
            "2000/2000 [==============================] - 4s 2ms/step - loss: 0.1028 - accuracy: 0.9905\n",
            "Epoch 30/100\n",
            "2000/2000 [==============================] - 5s 2ms/step - loss: 0.1027 - accuracy: 0.9906\n",
            "Epoch 31/100\n",
            "2000/2000 [==============================] - 5s 2ms/step - loss: 0.1026 - accuracy: 0.9915\n",
            "Epoch 32/100\n",
            "2000/2000 [==============================] - 4s 2ms/step - loss: 0.1027 - accuracy: 0.9907\n",
            "Epoch 33/100\n",
            "2000/2000 [==============================] - 4s 2ms/step - loss: 0.1027 - accuracy: 0.9913\n",
            "Epoch 34/100\n",
            "2000/2000 [==============================] - 5s 2ms/step - loss: 0.1025 - accuracy: 0.9916\n",
            "Epoch 35/100\n",
            "2000/2000 [==============================] - 4s 2ms/step - loss: 0.1025 - accuracy: 0.9913\n",
            "Epoch 36/100\n",
            "2000/2000 [==============================] - 5s 2ms/step - loss: 0.1023 - accuracy: 0.9924\n",
            "Epoch 37/100\n",
            "2000/2000 [==============================] - 4s 2ms/step - loss: 0.1023 - accuracy: 0.9924\n",
            "Epoch 38/100\n",
            "2000/2000 [==============================] - 4s 2ms/step - loss: 0.1024 - accuracy: 0.9922\n",
            "Epoch 39/100\n",
            "2000/2000 [==============================] - 4s 2ms/step - loss: 0.1023 - accuracy: 0.9920\n",
            "Epoch 40/100\n",
            "2000/2000 [==============================] - 4s 2ms/step - loss: 0.1023 - accuracy: 0.9923\n",
            "Epoch 41/100\n",
            "2000/2000 [==============================] - 4s 2ms/step - loss: 0.1023 - accuracy: 0.9921\n",
            "Epoch 42/100\n",
            "2000/2000 [==============================] - 5s 2ms/step - loss: 0.1021 - accuracy: 0.9927\n",
            "Epoch 43/100\n",
            "2000/2000 [==============================] - 4s 2ms/step - loss: 0.1022 - accuracy: 0.9927\n",
            "Epoch 44/100\n",
            "2000/2000 [==============================] - 5s 2ms/step - loss: 0.1020 - accuracy: 0.9936\n",
            "Epoch 45/100\n",
            "2000/2000 [==============================] - 4s 2ms/step - loss: 0.1020 - accuracy: 0.9932\n",
            "Epoch 46/100\n",
            "2000/2000 [==============================] - 5s 2ms/step - loss: 0.1019 - accuracy: 0.9939\n",
            "Epoch 47/100\n",
            "2000/2000 [==============================] - 4s 2ms/step - loss: 0.1020 - accuracy: 0.9935\n",
            "Epoch 48/100\n",
            "2000/2000 [==============================] - 4s 2ms/step - loss: 0.1022 - accuracy: 0.9930\n",
            "Epoch 49/100\n",
            "2000/2000 [==============================] - 4s 2ms/step - loss: 0.1017 - accuracy: 0.9939\n",
            "Epoch 50/100\n",
            "2000/2000 [==============================] - 4s 2ms/step - loss: 0.1020 - accuracy: 0.9936\n",
            "Epoch 51/100\n",
            "2000/2000 [==============================] - 4s 2ms/step - loss: 0.1020 - accuracy: 0.9932\n",
            "Epoch 52/100\n",
            "2000/2000 [==============================] - 5s 2ms/step - loss: 0.1017 - accuracy: 0.9942\n",
            "Epoch 53/100\n",
            "2000/2000 [==============================] - 4s 2ms/step - loss: 0.1019 - accuracy: 0.9939\n",
            "Epoch 54/100\n",
            "2000/2000 [==============================] - 4s 2ms/step - loss: 0.1020 - accuracy: 0.9934\n",
            "Epoch 55/100\n",
            "2000/2000 [==============================] - 5s 2ms/step - loss: 0.1017 - accuracy: 0.9947\n",
            "Epoch 56/100\n",
            "2000/2000 [==============================] - 4s 2ms/step - loss: 0.1020 - accuracy: 0.9937\n",
            "Epoch 57/100\n",
            "2000/2000 [==============================] - 5s 2ms/step - loss: 0.1016 - accuracy: 0.9948\n",
            "Epoch 58/100\n",
            "2000/2000 [==============================] - 4s 2ms/step - loss: 0.1017 - accuracy: 0.9946\n",
            "Epoch 59/100\n",
            "2000/2000 [==============================] - 4s 2ms/step - loss: 0.1020 - accuracy: 0.9938\n",
            "Epoch 60/100\n",
            "2000/2000 [==============================] - 4s 2ms/step - loss: 0.1018 - accuracy: 0.9941\n",
            "Epoch 61/100\n",
            "2000/2000 [==============================] - 4s 2ms/step - loss: 0.1018 - accuracy: 0.9942\n",
            "Epoch 62/100\n",
            "2000/2000 [==============================] - 5s 2ms/step - loss: 0.1015 - accuracy: 0.9953\n",
            "Epoch 63/100\n",
            "2000/2000 [==============================] - 4s 2ms/step - loss: 0.1019 - accuracy: 0.9941\n",
            "Epoch 64/100\n",
            "2000/2000 [==============================] - 4s 2ms/step - loss: 0.1018 - accuracy: 0.9945\n",
            "Epoch 65/100\n",
            "2000/2000 [==============================] - 4s 2ms/step - loss: 0.1018 - accuracy: 0.9945\n",
            "Epoch 66/100\n",
            "2000/2000 [==============================] - 4s 2ms/step - loss: 0.1017 - accuracy: 0.9949\n",
            "Epoch 67/100\n",
            "2000/2000 [==============================] - 5s 2ms/step - loss: 0.1016 - accuracy: 0.9952\n",
            "Epoch 68/100\n",
            "2000/2000 [==============================] - 6s 3ms/step - loss: 0.1015 - accuracy: 0.9955\n",
            "Epoch 69/100\n",
            "2000/2000 [==============================] - 4s 2ms/step - loss: 0.1019 - accuracy: 0.9941\n",
            "Epoch 70/100\n",
            "2000/2000 [==============================] - 4s 2ms/step - loss: 0.1017 - accuracy: 0.9948\n",
            "Epoch 71/100\n",
            "2000/2000 [==============================] - 4s 2ms/step - loss: 0.1018 - accuracy: 0.9946\n",
            "Epoch 72/100\n",
            "2000/2000 [==============================] - 4s 2ms/step - loss: 0.1017 - accuracy: 0.9949\n",
            "Epoch 73/100\n",
            "2000/2000 [==============================] - 5s 2ms/step - loss: 0.1012 - accuracy: 0.9960\n",
            "Epoch 74/100\n",
            "2000/2000 [==============================] - 4s 2ms/step - loss: 0.1020 - accuracy: 0.9943\n",
            "Epoch 75/100\n",
            "2000/2000 [==============================] - 4s 2ms/step - loss: 0.1014 - accuracy: 0.9955\n",
            "Epoch 76/100\n",
            "2000/2000 [==============================] - 4s 2ms/step - loss: 0.1017 - accuracy: 0.9948\n",
            "Epoch 77/100\n",
            "2000/2000 [==============================] - 4s 2ms/step - loss: 0.1016 - accuracy: 0.9953\n",
            "Epoch 78/100\n",
            "2000/2000 [==============================] - 4s 2ms/step - loss: 0.1014 - accuracy: 0.9955\n",
            "Epoch 79/100\n",
            "2000/2000 [==============================] - 4s 2ms/step - loss: 0.1015 - accuracy: 0.9956\n",
            "Epoch 80/100\n",
            "2000/2000 [==============================] - 4s 2ms/step - loss: 0.1016 - accuracy: 0.9956\n",
            "Epoch 81/100\n",
            "2000/2000 [==============================] - 4s 2ms/step - loss: 0.1016 - accuracy: 0.9955\n",
            "Epoch 82/100\n",
            "2000/2000 [==============================] - 4s 2ms/step - loss: 0.1019 - accuracy: 0.9948\n",
            "Epoch 83/100\n",
            "2000/2000 [==============================] - 4s 2ms/step - loss: 0.1014 - accuracy: 0.9957\n",
            "1875/1875 [==============================] - 4s 2ms/step - loss: 0.1014 - accuracy: 0.9956\n",
            "313/313 [==============================] - 1s 2ms/step - loss: 0.1178 - accuracy: 0.9740\n",
            "[0.10141340643167496, 0.9955833554267883, 0.11784418672323227, 0.9739999771118164]\n",
            "Dokładności klasyfikacji na materiale treningowym  =  [0.10141340643167496, 0.9955833554267883]\n",
            "dokładności klasyfikacji na materiale testowym  =  [0.11784418672323227, 0.9739999771118164]\n"
          ]
        },
        {
          "output_type": "display_data",
          "data": {
            "text/plain": [
              "<Figure size 432x288 with 1 Axes>"
            ],
            "image/png": "[encoded data removed]"
          },
          "metadata": {
            "needs_background": "light"
          }
        }
      ],
      "execution_count": 11,
      "metadata": {
        "colab": {
          "base_uri": "https://localhost:8080/",
          "height": 1000
        },
        "id": "6gm4nAb00z_2",
        "outputId": "59bb73e2-0719-4c69-e6e3-4975d590c618"
      }
    },
    {
      "cell_type": "code",
      "source": [
        "# Zadanie 2.2 \n",
        "f1 = tf.keras.callbacks.EarlyStopping(monitor='loss', verbose=0, patience=10, mode=\"auto\")\n",
        "f2 = tf.keras.callbacks.ModelCheckpoint(filepath='modelw', save_weights_only = False, monitor = 'accuracy', mode='max', save_best_only = True)\n",
        "f3 = tf.keras.callbacks.TensorBoard(log_dir='./logs')\n",
        "history3 = model3.fit(train_images,  to_categorical(train_labels),  epochs=100, batch_size = 30,  callbacks = [f1,f2,f3])\n",
        "trained_model3 = keras.models.load_model('modelw')\n",
        "train_accuracy = trained_model3.evaluate(train_images, to_categorical(train_labels))\n",
        "test_accuracy = trained_model3.evaluate(test_images, to_categorical(test_labels))\n",
        "\n",
        "print(train_accuracy + test_accuracy)\n",
        "print('Dokładności klasyfikacji na materiale treningowym  = ',train_accuracy)\n",
        "print('dokładności klasyfikacji na materiale testowym  = ',test_accuracy)\n",
        "summarize_diagnostics(history3)\n",
        "\n",
        "# Przy wykorzystaniu algorytmu adaptacyjnego Adadelta model uczy się wolniej. Wykorzystałem dodatkowe parametry algorytmu Adadelta ze strony https://keras.io/api/optimizers/adadelta/.\n",
        "# Możliwe, że dzięki ich modyfikacji możliwe są lepsze rezultaty. Adam jest najwydajniejszym jest efektywniejszym algorytmem - zapoznałem się z https://arxiv.org/pdf/1412.6980.pdf\n"
      ],
      "outputs": [
        {
          "output_type": "stream",
          "name": "stdout",
          "text": [
            "Epoch 1/100\n",
            "2000/2000 [==============================] - 5s 2ms/step - loss: 2.2550 - accuracy: 0.1744\n",
            "Epoch 2/100\n",
            "2000/2000 [==============================] - 5s 2ms/step - loss: 2.1323 - accuracy: 0.3359\n",
            "Epoch 3/100\n",
            "2000/2000 [==============================] - 5s 3ms/step - loss: 2.0136 - accuracy: 0.4302\n",
            "Epoch 4/100\n",
            "2000/2000 [==============================] - 5s 3ms/step - loss: 1.8905 - accuracy: 0.5120\n",
            "Epoch 5/100\n",
            "2000/2000 [==============================] - 5s 3ms/step - loss: 1.7716 - accuracy: 0.5717\n",
            "Epoch 6/100\n",
            "2000/2000 [==============================] - 5s 3ms/step - loss: 1.6590 - accuracy: 0.6137\n",
            "Epoch 7/100\n",
            "2000/2000 [==============================] - 5s 3ms/step - loss: 1.5518 - accuracy: 0.6461\n",
            "Epoch 8/100\n",
            "2000/2000 [==============================] - 5s 2ms/step - loss: 1.4513 - accuracy: 0.6726\n",
            "Epoch 9/100\n",
            "2000/2000 [==============================] - 5s 2ms/step - loss: 1.3587 - accuracy: 0.6977\n",
            "Epoch 10/100\n",
            "2000/2000 [==============================] - 6s 3ms/step - loss: 1.2751 - accuracy: 0.7170\n",
            "Epoch 11/100\n",
            "2000/2000 [==============================] - 5s 2ms/step - loss: 1.1998 - accuracy: 0.7345\n",
            "Epoch 12/100\n",
            "2000/2000 [==============================] - 5s 2ms/step - loss: 1.1324 - accuracy: 0.7488\n",
            "Epoch 13/100\n",
            "2000/2000 [==============================] - 5s 2ms/step - loss: 1.0720 - accuracy: 0.7606\n",
            "Epoch 14/100\n",
            "2000/2000 [==============================] - 5s 2ms/step - loss: 1.0181 - accuracy: 0.7712\n",
            "Epoch 15/100\n",
            "2000/2000 [==============================] - 5s 2ms/step - loss: 0.9699 - accuracy: 0.7798\n",
            "Epoch 16/100\n",
            "2000/2000 [==============================] - 5s 2ms/step - loss: 0.9268 - accuracy: 0.7879\n",
            "Epoch 17/100\n",
            "2000/2000 [==============================] - 5s 2ms/step - loss: 0.8880 - accuracy: 0.7945\n",
            "Epoch 18/100\n",
            "2000/2000 [==============================] - 5s 2ms/step - loss: 0.8526 - accuracy: 0.8006\n",
            "Epoch 19/100\n",
            "2000/2000 [==============================] - 5s 3ms/step - loss: 0.8204 - accuracy: 0.8069\n",
            "Epoch 20/100\n",
            "2000/2000 [==============================] - 5s 2ms/step - loss: 0.7910 - accuracy: 0.8123\n",
            "Epoch 21/100\n",
            "2000/2000 [==============================] - 5s 2ms/step - loss: 0.7642 - accuracy: 0.8169\n",
            "Epoch 22/100\n",
            "2000/2000 [==============================] - 5s 2ms/step - loss: 0.7398 - accuracy: 0.8217\n",
            "Epoch 23/100\n",
            "2000/2000 [==============================] - 5s 3ms/step - loss: 0.7177 - accuracy: 0.8253\n",
            "Epoch 24/100\n",
            "2000/2000 [==============================] - 5s 2ms/step - loss: 0.6975 - accuracy: 0.8291\n",
            "Epoch 25/100\n",
            "2000/2000 [==============================] - 5s 2ms/step - loss: 0.6790 - accuracy: 0.8324\n",
            "Epoch 26/100\n",
            "2000/2000 [==============================] - 5s 2ms/step - loss: 0.6619 - accuracy: 0.8357\n",
            "Epoch 27/100\n",
            "2000/2000 [==============================] - 5s 2ms/step - loss: 0.6463 - accuracy: 0.8387\n",
            "Epoch 28/100\n",
            "2000/2000 [==============================] - 5s 2ms/step - loss: 0.6319 - accuracy: 0.8411\n",
            "Epoch 29/100\n",
            "2000/2000 [==============================] - 5s 3ms/step - loss: 0.6185 - accuracy: 0.8439\n",
            "Epoch 30/100\n",
            "2000/2000 [==============================] - 5s 2ms/step - loss: 0.6060 - accuracy: 0.8464\n",
            "Epoch 31/100\n",
            "2000/2000 [==============================] - 5s 2ms/step - loss: 0.5944 - accuracy: 0.8485\n",
            "Epoch 32/100\n",
            "2000/2000 [==============================] - 5s 2ms/step - loss: 0.5836 - accuracy: 0.8508\n",
            "Epoch 33/100\n",
            "2000/2000 [==============================] - 5s 2ms/step - loss: 0.5734 - accuracy: 0.8533\n",
            "Epoch 34/100\n",
            "2000/2000 [==============================] - 5s 2ms/step - loss: 0.5638 - accuracy: 0.8548\n",
            "Epoch 35/100\n",
            "2000/2000 [==============================] - 5s 2ms/step - loss: 0.5548 - accuracy: 0.8567\n",
            "Epoch 36/100\n",
            "2000/2000 [==============================] - 5s 2ms/step - loss: 0.5463 - accuracy: 0.8589\n",
            "Epoch 37/100\n",
            "2000/2000 [==============================] - 5s 2ms/step - loss: 0.5383 - accuracy: 0.8605\n",
            "Epoch 38/100\n",
            "2000/2000 [==============================] - 5s 2ms/step - loss: 0.5307 - accuracy: 0.8619\n",
            "Epoch 39/100\n",
            "2000/2000 [==============================] - 5s 2ms/step - loss: 0.5235 - accuracy: 0.8628\n",
            "Epoch 40/100\n",
            "2000/2000 [==============================] - 5s 2ms/step - loss: 0.5167 - accuracy: 0.8646\n",
            "Epoch 41/100\n",
            "2000/2000 [==============================] - 5s 3ms/step - loss: 0.5102 - accuracy: 0.8656\n",
            "Epoch 42/100\n",
            "2000/2000 [==============================] - 5s 2ms/step - loss: 0.5040 - accuracy: 0.8667\n",
            "Epoch 43/100\n",
            "2000/2000 [==============================] - 5s 2ms/step - loss: 0.4982 - accuracy: 0.8676\n",
            "Epoch 44/100\n",
            "2000/2000 [==============================] - 5s 2ms/step - loss: 0.4926 - accuracy: 0.8691\n",
            "Epoch 45/100\n",
            "2000/2000 [==============================] - 5s 2ms/step - loss: 0.4873 - accuracy: 0.8700\n",
            "Epoch 46/100\n",
            "2000/2000 [==============================] - 6s 3ms/step - loss: 0.4821 - accuracy: 0.8713\n",
            "Epoch 47/100\n",
            "2000/2000 [==============================] - 5s 2ms/step - loss: 0.4773 - accuracy: 0.8726\n",
            "Epoch 48/100\n",
            "2000/2000 [==============================] - 5s 2ms/step - loss: 0.4726 - accuracy: 0.8732\n",
            "Epoch 49/100\n",
            "2000/2000 [==============================] - 5s 2ms/step - loss: 0.4681 - accuracy: 0.8742\n",
            "Epoch 50/100\n",
            "2000/2000 [==============================] - 5s 2ms/step - loss: 0.4638 - accuracy: 0.8752\n",
            "Epoch 51/100\n",
            "2000/2000 [==============================] - 5s 2ms/step - loss: 0.4597 - accuracy: 0.8761\n",
            "Epoch 52/100\n",
            "2000/2000 [==============================] - 5s 2ms/step - loss: 0.4557 - accuracy: 0.8770\n",
            "Epoch 53/100\n",
            "2000/2000 [==============================] - 5s 3ms/step - loss: 0.4519 - accuracy: 0.8777\n",
            "Epoch 54/100\n",
            "2000/2000 [==============================] - 5s 2ms/step - loss: 0.4483 - accuracy: 0.8785\n",
            "Epoch 55/100\n",
            "2000/2000 [==============================] - 5s 2ms/step - loss: 0.4447 - accuracy: 0.8793\n",
            "Epoch 56/100\n",
            "2000/2000 [==============================] - 5s 2ms/step - loss: 0.4413 - accuracy: 0.8803\n",
            "Epoch 57/100\n",
            "2000/2000 [==============================] - 5s 2ms/step - loss: 0.4380 - accuracy: 0.8811\n",
            "Epoch 58/100\n",
            "2000/2000 [==============================] - 5s 2ms/step - loss: 0.4349 - accuracy: 0.8814\n",
            "Epoch 59/100\n",
            "2000/2000 [==============================] - 5s 2ms/step - loss: 0.4318 - accuracy: 0.8819\n",
            "Epoch 60/100\n",
            "2000/2000 [==============================] - 5s 2ms/step - loss: 0.4288 - accuracy: 0.8830\n",
            "Epoch 61/100\n",
            "2000/2000 [==============================] - 5s 2ms/step - loss: 0.4260 - accuracy: 0.8832\n",
            "Epoch 62/100\n",
            "2000/2000 [==============================] - 5s 2ms/step - loss: 0.4232 - accuracy: 0.8838\n",
            "Epoch 63/100\n",
            "2000/2000 [==============================] - 5s 2ms/step - loss: 0.4206 - accuracy: 0.8844\n",
            "Epoch 64/100\n",
            "2000/2000 [==============================] - 5s 3ms/step - loss: 0.4179 - accuracy: 0.8851\n",
            "Epoch 65/100\n",
            "2000/2000 [==============================] - 5s 2ms/step - loss: 0.4155 - accuracy: 0.8858\n",
            "Epoch 66/100\n",
            "2000/2000 [==============================] - 5s 3ms/step - loss: 0.4130 - accuracy: 0.8864\n",
            "Epoch 67/100\n",
            "2000/2000 [==============================] - 5s 3ms/step - loss: 0.4106 - accuracy: 0.8869\n",
            "Epoch 68/100\n",
            "2000/2000 [==============================] - 5s 2ms/step - loss: 0.4083 - accuracy: 0.8874\n",
            "Epoch 69/100\n",
            "2000/2000 [==============================] - 5s 3ms/step - loss: 0.4061 - accuracy: 0.8880\n",
            "Epoch 70/100\n",
            "2000/2000 [==============================] - 5s 3ms/step - loss: 0.4039 - accuracy: 0.8883\n",
            "Epoch 71/100\n",
            "2000/2000 [==============================] - 5s 2ms/step - loss: 0.4018 - accuracy: 0.8888\n",
            "Epoch 72/100\n",
            "2000/2000 [==============================] - 5s 2ms/step - loss: 0.3997 - accuracy: 0.8891\n",
            "Epoch 73/100\n",
            "2000/2000 [==============================] - 5s 2ms/step - loss: 0.3977 - accuracy: 0.8894\n",
            "Epoch 74/100\n",
            "2000/2000 [==============================] - 5s 2ms/step - loss: 0.3958 - accuracy: 0.8900\n",
            "Epoch 75/100\n",
            "2000/2000 [==============================] - 5s 3ms/step - loss: 0.3939 - accuracy: 0.8904\n",
            "Epoch 76/100\n",
            "2000/2000 [==============================] - 5s 3ms/step - loss: 0.3920 - accuracy: 0.8906\n",
            "Epoch 77/100\n",
            "2000/2000 [==============================] - 5s 3ms/step - loss: 0.3902 - accuracy: 0.8912\n",
            "Epoch 78/100\n",
            "2000/2000 [==============================] - 5s 3ms/step - loss: 0.3884 - accuracy: 0.8917\n",
            "Epoch 79/100\n",
            "2000/2000 [==============================] - 5s 3ms/step - loss: 0.3867 - accuracy: 0.8918\n",
            "Epoch 80/100\n",
            "2000/2000 [==============================] - 5s 3ms/step - loss: 0.3850 - accuracy: 0.8924\n",
            "Epoch 81/100\n",
            "2000/2000 [==============================] - 6s 3ms/step - loss: 0.3834 - accuracy: 0.8926\n",
            "Epoch 82/100\n",
            "2000/2000 [==============================] - 5s 3ms/step - loss: 0.3818 - accuracy: 0.8926\n",
            "Epoch 83/100\n",
            "2000/2000 [==============================] - 5s 3ms/step - loss: 0.3802 - accuracy: 0.8933\n",
            "Epoch 84/100\n",
            "2000/2000 [==============================] - 5s 3ms/step - loss: 0.3786 - accuracy: 0.8935\n",
            "Epoch 85/100\n",
            "2000/2000 [==============================] - 5s 2ms/step - loss: 0.3771 - accuracy: 0.8941\n",
            "Epoch 86/100\n",
            "2000/2000 [==============================] - 5s 2ms/step - loss: 0.3757 - accuracy: 0.8940\n",
            "Epoch 87/100\n",
            "2000/2000 [==============================] - 5s 2ms/step - loss: 0.3742 - accuracy: 0.8946\n",
            "Epoch 88/100\n",
            "2000/2000 [==============================] - 5s 2ms/step - loss: 0.3728 - accuracy: 0.8946\n",
            "Epoch 89/100\n",
            "2000/2000 [==============================] - 5s 2ms/step - loss: 0.3714 - accuracy: 0.8950\n",
            "Epoch 90/100\n",
            "2000/2000 [==============================] - 5s 3ms/step - loss: 0.3701 - accuracy: 0.8952\n",
            "Epoch 91/100\n",
            "2000/2000 [==============================] - 5s 2ms/step - loss: 0.3688 - accuracy: 0.8959\n",
            "Epoch 92/100\n",
            "2000/2000 [==============================] - 5s 2ms/step - loss: 0.3675 - accuracy: 0.8958\n",
            "Epoch 93/100\n",
            "2000/2000 [==============================] - 5s 2ms/step - loss: 0.3662 - accuracy: 0.8961\n",
            "Epoch 94/100\n",
            "2000/2000 [==============================] - 5s 3ms/step - loss: 0.3649 - accuracy: 0.8965\n",
            "Epoch 95/100\n",
            "2000/2000 [==============================] - 5s 3ms/step - loss: 0.3637 - accuracy: 0.8968\n",
            "Epoch 96/100\n",
            "2000/2000 [==============================] - 5s 3ms/step - loss: 0.3625 - accuracy: 0.8971\n",
            "Epoch 97/100\n",
            "2000/2000 [==============================] - 5s 3ms/step - loss: 0.3613 - accuracy: 0.8972\n",
            "Epoch 98/100\n",
            "2000/2000 [==============================] - 5s 2ms/step - loss: 0.3601 - accuracy: 0.8977\n",
            "Epoch 99/100\n",
            "2000/2000 [==============================] - 5s 3ms/step - loss: 0.3590 - accuracy: 0.8979\n",
            "Epoch 100/100\n",
            "2000/2000 [==============================] - 5s 2ms/step - loss: 0.3579 - accuracy: 0.8983\n",
            "1875/1875 [==============================] - 4s 2ms/step - loss: 0.3572 - accuracy: 0.8982\n",
            "313/313 [==============================] - 1s 2ms/step - loss: 0.3418 - accuracy: 0.9030\n",
            "[0.35719165205955505, 0.8981833457946777, 0.34177854657173157, 0.902999997138977]\n",
            "Dokładności klasyfikacji na materiale treningowym  =  [0.35719165205955505, 0.8981833457946777]\n",
            "dokładności klasyfikacji na materiale testowym  =  [0.34177854657173157, 0.902999997138977]\n"
          ]
        },
        {
          "output_type": "display_data",
          "data": {
            "text/plain": [
              "<Figure size 432x288 with 1 Axes>"
            ],
            "image/png": "[encoded data removed]"
          },
          "metadata": {
            "needs_background": "light"
          }
        }
      ],
      "execution_count": 12,
      "metadata": {
        "colab": {
          "base_uri": "https://localhost:8080/",
          "height": 1000
        },
        "id": "JE1OLiQg2Fo9",
        "outputId": "d7d47632-16cc-48b0-d629-4b4296ca5d65"
      }
    },
    {
      "cell_type": "markdown",
      "source": [
        "### 📚 Zadanie 3.\n",
        "##### Niekiedy przydaje nam się możliwość wprowadzenia modyfikacji do funkcji straty lub zbudowania własnej funkcji straty od postaw. W Keras/Tensorflow jest to dosyć prosta rzecz, którą możemy zrealizować za pomocą podstawowych operacji."
      ],
      "metadata": {
        "id": "x61bwRH5R6fR"
      }
    },
    {
      "cell_type": "markdown",
      "source": [
        "Poniższy przykład ilustruje w jaki sposób możemy skorzystać z funkcji straty Root Mean Square Error (RMSE) dla dwóch zmiennych (y_true i y_pred)."
      ],
      "metadata": {
        "id": "Xjpqs_zRR6fR"
      }
    },
    {
      "cell_type": "code",
      "source": [
        "y_true = 43.2\n",
        "y_pred = 4.2"
      ],
      "outputs": [],
      "execution_count": 13,
      "metadata": {
        "id": "XSF0qsNyR6fR"
      }
    },
    {
      "cell_type": "code",
      "source": [
        "x = tf.keras.metrics.RootMeanSquaredError()\n",
        "x(y_true, y_pred).numpy()"
      ],
      "outputs": [
        {
          "output_type": "execute_result",
          "data": {
            "text/plain": [
              "39.0"
            ]
          },
          "metadata": {},
          "execution_count": 14
        }
      ],
      "execution_count": 14,
      "metadata": {
        "id": "i5kU6V0IR6fR",
        "colab": {
          "base_uri": "https://localhost:8080/"
        },
        "outputId": "20e89bef-12f4-4965-e28d-0fd3e34892aa"
      }
    },
    {
      "cell_type": "markdown",
      "source": [
        "Czasami jednak możemy chcieć stworzyć naszą własną funkcję straty (podajemy przy tym dwa argumenty, tj. y_true oraz y_pred)."
      ],
      "metadata": {
        "id": "Gc5btaV4R6fS"
      }
    },
    {
      "cell_type": "code",
      "source": [
        "import math\n",
        "def custom_loss_function(y_true, y_pred):\n",
        "  MSE = np.square(np.subtract(y_true,y_pred)).mean() \n",
        "  RMSE = math.sqrt(MSE)\n",
        "#  print(\"Root Mean Square Error:\\n\")\n",
        "#  print(RMSE)\n",
        "  return(RMSE)\n",
        "  "
      ],
      "outputs": [],
      "execution_count": 15,
      "metadata": {
        "id": "dZa95_oER6fS"
      }
    },
    {
      "cell_type": "code",
      "source": [
        "custom_loss_function(43.2, 4.2)"
      ],
      "outputs": [
        {
          "output_type": "execute_result",
          "data": {
            "text/plain": [
              "39.0"
            ]
          },
          "metadata": {},
          "execution_count": 16
        }
      ],
      "execution_count": 16,
      "metadata": {
        "colab": {
          "base_uri": "https://localhost:8080/"
        },
        "id": "KG4tOg_k_8C6",
        "outputId": "1fc8187a-afe8-428e-89bb-05f51d687e6c"
      }
    },
    {
      "cell_type": "markdown",
      "source": [
        "Odtwórz wskazaną wcześniej funkcję straty Root Mean Squared Error tworząc od podstaw nową funkcję."
      ],
      "metadata": {
        "id": "6YSGpIQuR6fS"
      }
    },
    {
      "cell_type": "markdown",
      "source": [
        "![2fae41d2-cda7-466c-b672-f909e745e126.png](data:image/png;base64,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)"
      ],
      "metadata": {
        "id": "cj4DgCl2UmaC"
      }
    }
  ],
  "metadata": {
    "accelerator": "GPU",
    "colab": {
      "provenance": [],
      "include_colab_link": true
    },
    "kernelspec": {
      "name": "python3",
      "display_name": "Python 3"
    },
    "language_info": {
      "name": "python"
    },
    "kernel_info": {
      "name": "python"
    },
    "nteract": {
      "version": "nteract-front-end@1.0.0"
    },
    "gpuClass": "standard"
  },
  "nbformat": 4,
  "nbformat_minor": 0
}